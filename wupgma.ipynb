{
 "cells": [
  {
   "cell_type": "code",
   "execution_count": 1,
   "metadata": {},
   "outputs": [],
   "source": [
    "class NewickTree:\n",
    "    def __init__(self, elements, left_child, right_child, height):\n",
    "        self.elements = elements\n",
    "        self.l = left_child\n",
    "        self.r = right_child\n",
    "        self.height = height\n",
    "\n",
    "    def to_string(self):\n",
    "        if len(self.elements) == 1:\n",
    "            return str(list(self.elements)[0])\n",
    "        else:\n",
    "            return \"(\" + self.l.to_string() + \":\" + str(\n",
    "                self.height - self.l.height) + \",\" + self.r.to_string() + \":\" + str(\n",
    "                self.height - self.r.height) + \")\""
   ]
  },
  {
   "cell_type": "code",
   "execution_count": 2,
   "metadata": {},
   "outputs": [],
   "source": [
    "def find_min(table):\n",
    "    minimum = 1000101010100000\n",
    "    A = None\n",
    "    B = None\n",
    "    for (a, b) in table.items():\n",
    "        for (c, d) in b.items():\n",
    "            if d != 0 and d < minimum:\n",
    "                A = a\n",
    "                B = c\n",
    "                minimum = d\n",
    "    return A, B"
   ]
  },
  {
   "cell_type": "code",
   "execution_count": 3,
   "metadata": {},
   "outputs": [],
   "source": [
    "def upgma(table):\n",
    "    cluster_distances = table\n",
    "    trees = {None: None}\n",
    "    for (a, _) in table.items():\n",
    "        trees[a] = NewickTree(a, None, None, 0.0)\n",
    "    while True:\n",
    "        (a, b) = find_min(cluster_distances)\n",
    "        new_cluster = a.union(b)\n",
    "        new_cluster_distances = {new_cluster: {new_cluster: 0}}\n",
    "        a_tree = trees[a]\n",
    "        b_tree = trees[b]\n",
    "        new_branch_length = cluster_distances[a][b] / 2\n",
    "        trees[new_cluster] = NewickTree(new_cluster, a_tree, b_tree, new_branch_length)\n",
    "        for (k, v) in cluster_distances[a].items():\n",
    "            if k == a or k == b:\n",
    "                continue\n",
    "            new_cluster_distances[new_cluster][k] = (cluster_distances[a][k] * len(a) + cluster_distances[b][k] * len(\n",
    "                b)) / (len(a) + len(b))\n",
    "            if not (k in new_cluster_distances):\n",
    "                new_cluster_distances[k] = {k: 0.0}\n",
    "            new_cluster_distances[k][new_cluster] = new_cluster_distances[new_cluster][k]\n",
    "\n",
    "        for (k1, v1) in cluster_distances.items():\n",
    "            if k1 == a or k1 == b:\n",
    "                continue\n",
    "            for (k2, v2) in v1.items():\n",
    "                if k2 == a or k2 == b:\n",
    "                    continue\n",
    "                new_cluster_distances[k1][k2] = v2\n",
    "        if len(new_cluster_distances) == 1:\n",
    "            return trees[new_cluster]\n",
    "        cluster_distances = new_cluster_distances"
   ]
  },
  {
   "cell_type": "code",
   "execution_count": 4,
   "metadata": {},
   "outputs": [],
   "source": [
    "def wpgma(table):\n",
    "    cluster_distances = table\n",
    "    trees = {None: None}\n",
    "    for (a, _) in table.items():\n",
    "        trees[a] = NewickTree(a, None, None, 0.0)\n",
    "    while True:\n",
    "        (a, b) = find_min(cluster_distances)\n",
    "        new_cluster = a.union(b)\n",
    "        new_cluster_distances = {new_cluster: {new_cluster: 0}}\n",
    "        a_tree = trees[a]\n",
    "        b_tree = trees[b]\n",
    "        new_branch_length = cluster_distances[a][b] / 2\n",
    "        trees[new_cluster] = NewickTree(new_cluster, a_tree, b_tree, new_branch_length)\n",
    "        for (k, v) in cluster_distances[a].items():\n",
    "            if k == a or k == b:\n",
    "                continue\n",
    "            new_cluster_distances[new_cluster][k] = (cluster_distances[a][k] + cluster_distances[b][k]) / 2\n",
    "            if not (k in new_cluster_distances):\n",
    "                new_cluster_distances[k] = {k: 0.0}\n",
    "            new_cluster_distances[k][new_cluster] = new_cluster_distances[new_cluster][k]\n",
    "\n",
    "        for (k1, v1) in cluster_distances.items():\n",
    "            if k1 == a or k1 == b:\n",
    "                continue\n",
    "            for (k2, v2) in v1.items():\n",
    "                if k2 == a or k2 == b:\n",
    "                    continue\n",
    "                new_cluster_distances[k1][k2] = v2\n",
    "        if len(new_cluster_distances) == 1:\n",
    "            return trees[new_cluster]\n",
    "        cluster_distances = new_cluster_distances"
   ]
  },
  {
   "cell_type": "code",
   "execution_count": 8,
   "metadata": {},
   "outputs": [],
   "source": [
    "def run(test_number):\n",
    "    if test_number == 1:\n",
    "        test = test1\n",
    "    elif test_number == 2:\n",
    "        test = test2\n",
    "    else:\n",
    "        print(\"No such test\")\n",
    "        return\n",
    "    print(upgma(test).to_string())\n",
    "    print(wpgma(test).to_string())"
   ]
  },
  {
   "cell_type": "code",
   "execution_count": 9,
   "metadata": {},
   "outputs": [],
   "source": [
    "test1 = {\n",
    "    frozenset({\"A\"}): {frozenset({\"A\"}): 0.0, frozenset({\"B\"}): 16.0, frozenset({\"C\"}): 16.0, frozenset({\"D\"}): 10.0},\n",
    "    frozenset({\"B\"}): {frozenset({\"A\"}): 16.0, frozenset({\"B\"}): 0.0, frozenset({\"C\"}): 8.0, frozenset({\"D\"}): 8.0},\n",
    "    frozenset({\"C\"}): {frozenset({\"A\"}): 16.0, frozenset({\"B\"}): 8.0, frozenset({\"C\"}): 0.0, frozenset({\"D\"}): 4.0},\n",
    "    frozenset({\"D\"}): {frozenset({\"A\"}): 10.0, frozenset({\"B\"}): 8.0, frozenset({\"C\"}): 4.0, frozenset({\"D\"}): 10.0}}"
   ]
  },
  {
   "cell_type": "code",
   "execution_count": 10,
   "metadata": {},
   "outputs": [],
   "source": [
    "test2 = {\n",
    "    frozenset({\"A\"}): {frozenset({\"A\"}): 0, frozenset({\"B\"}): 5, frozenset({\"C\"}): 4, frozenset({\"D\"}): 7,\n",
    "                       frozenset({\"E\"}): 6, frozenset({\"F\"}): 8},\n",
    "    frozenset({\"B\"}): {frozenset({\"A\"}): 5, frozenset({\"B\"}): 0, frozenset({\"C\"}): 7, frozenset({\"D\"}): 10,\n",
    "                       frozenset({\"E\"}): 9, frozenset({\"F\"}): 11},\n",
    "    frozenset({\"C\"}): {frozenset({\"A\"}): 4, frozenset({\"B\"}): 7, frozenset({\"C\"}): 0, frozenset({\"D\"}): 7,\n",
    "                       frozenset({\"E\"}): 6, frozenset({\"F\"}): 8},\n",
    "    frozenset({\"D\"}): {frozenset({\"A\"}): 7, frozenset({\"B\"}): 10, frozenset({\"C\"}): 7, frozenset({\"D\"}): 0,\n",
    "                       frozenset({\"E\"}): 5, frozenset({\"F\"}): 9},\n",
    "    frozenset({\"E\"}): {frozenset({\"A\"}): 6, frozenset({\"B\"}): 9, frozenset({\"C\"}): 6, frozenset({\"D\"}): 5,\n",
    "                       frozenset({\"E\"}): 0, frozenset({\"F\"}): 8},\n",
    "    frozenset({\"F\"}): {frozenset({\"A\"}): 8, frozenset({\"B\"}): 11, frozenset({\"C\"}): 8, frozenset({\"D\"}): 9,\n",
    "                       frozenset({\"E\"}): 8, frozenset({\"F\"}): 0}}\n"
   ]
  },
  {
   "cell_type": "code",
   "execution_count": 11,
   "metadata": {},
   "outputs": [
    {
     "name": "stdout",
     "output_type": "stream",
     "text": [
      "(((C:2.0,D:2.0):2.0,B:4.0):3.0,A:7.0)\n",
      "(((C:2.0,D:2.0):2.0,B:4.0):3.25,A:7.25)\n",
      "((((A:2.0,C:2.0):1.0,B:3.0):0.75,(D:2.5,E:2.5):1.25):0.6500000000000004,F:4.4)\n",
      "((((A:2.0,C:2.0):1.0,B:3.0):1.0,(D:2.5,E:2.5):1.5):0.5,F:4.5)\n"
     ]
    }
   ],
   "source": [
    "run(1)\n",
    "run(2)"
   ]
  },
  {
   "cell_type": "code",
   "execution_count": null,
   "metadata": {},
   "outputs": [],
   "source": []
  }
 ],
 "metadata": {
  "kernelspec": {
   "display_name": "Python 3",
   "language": "python",
   "name": "python3"
  },
  "language_info": {
   "codemirror_mode": {
    "name": "ipython",
    "version": 3
   },
   "file_extension": ".py",
   "mimetype": "text/x-python",
   "name": "python",
   "nbconvert_exporter": "python",
   "pygments_lexer": "ipython3",
   "version": "3.6.11"
  }
 },
 "nbformat": 4,
 "nbformat_minor": 4
}

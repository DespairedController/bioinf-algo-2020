{
 "cells": [
  {
   "cell_type": "code",
   "execution_count": 13,
   "metadata": {},
   "outputs": [],
   "source": [
    "def __arg_max(a, b):\n",
    "    if a > b:\n",
    "        return 0\n",
    "    return 1"
   ]
  },
  {
   "cell_type": "code",
   "execution_count": 14,
   "metadata": {},
   "outputs": [],
   "source": [
    "def viterby(a, b, p, seq):\n",
    "    n = len(seq)\n",
    "    delta = [(p[0] * b[0][seq[0]], p[1] * b[1][seq[0]])]\n",
    "    psi = list()\n",
    "    for t in range(1, n):\n",
    "        psi += [(__arg_max(delta[t - 1][0] * a[0][0] * b[0][seq[t]], delta[t - 1][1] * a[1][0] * b[1][seq[t]]),\n",
    "                 __arg_max(delta[t - 1][0] * a[0][1] * b[0][seq[t]], delta[t - 1][1] * a[1][1] * b[1][seq[t]]))]\n",
    "        delta.append((max(delta[t - 1][0] * a[0][0] * b[0][seq[t]], delta[t - 1][1] * a[1][0] * b[0][seq[t]]),\n",
    "                      max(delta[t - 1][0] * a[0][1] * b[1][seq[t]], delta[t - 1][1] * a[1][1] * b[1][seq[t]])))\n",
    "    last = __arg_max(delta[n - 1][0], delta[n - 1][1]) + 1\n",
    "    ans = str(last)\n",
    "    for t in reversed(range(0, n - 1)):\n",
    "        ans += str(__arg_max(delta[t][0], delta[t][1]) + 1)\n",
    "    print(ans[::-1])"
   ]
  },
  {
   "cell_type": "code",
   "execution_count": 15,
   "metadata": {},
   "outputs": [],
   "source": [
    "def forward_backward(a, b, p, seq):\n",
    "    n = len(seq)\n",
    "    alpha = [(p[0] * b[0][seq[0]], p[1] * b[1][seq[0]])]\n",
    "    for t in range(1, n):\n",
    "        alpha.append((alpha[t - 1][0] * a[0][0] * b[0][seq[t]] + alpha[t - 1][1] * a[1][0] * b[0][seq[t]],\n",
    "                      alpha[t - 1][0] * a[0][1] * b[1][seq[t]] + alpha[t - 1][1] * a[1][1] * b[1][seq[t]]))\n",
    "    beta = [(1, 1)]\n",
    "    r_seq = seq[::-1]\n",
    "    for t in range(1, n):\n",
    "        beta.append((a[0][0] * b[0][r_seq[t - 1]] * beta[t - 1][0] + a[0][1] * b[1][r_seq[t - 1]] *\n",
    "                     beta[t - 1][1],\n",
    "                     a[1][0] * b[0][r_seq[t - 1]] * beta[t - 1][0] + a[1][1] * b[1][r_seq[t - 1]] *\n",
    "                     beta[t - 1][1]))\n",
    "    beta = beta[::-1]\n",
    "    k = alpha[n - 1][0] + alpha[n - 1][1]\n",
    "    for j in range(2):\n",
    "        for t in range(n):\n",
    "            print(\"{0:0.3f}\".format(alpha[t][j] * beta[t][j] / k), end=\" \")\n",
    "        print()"
   ]
  },
  {
   "cell_type": "code",
   "execution_count": 16,
   "metadata": {},
   "outputs": [],
   "source": [
    "def test1():\n",
    "    seq = \"ОРОРОРООРРРРРРРРРРОООООООО\"\n",
    "    a = [[0.8, 0.2], [0.2, 0.8]]\n",
    "    b = [{\"О\": 0.5, \"Р\": 0.5}, {\"О\": 0.1, \"Р\": 0.9}]\n",
    "    p = [0.5, 0.5]\n",
    "    viterby(a, b, p, seq)\n",
    "    forward_backward(a, b, p, seq)"
   ]
  },
  {
   "cell_type": "code",
   "execution_count": 17,
   "metadata": {},
   "outputs": [],
   "source": [
    "def test2():\n",
    "    seq = \"ОРОРОРООРРРРРРРРРРОООООООО\"\n",
    "    a = [[0.5, 0.5], [0.5, 0.5]]\n",
    "    b = [{\"О\": 0.5, \"Р\": 0.5}, {\"О\": 0.51, \"Р\": 0.49}]\n",
    "    p = [0.5, 0.5]\n",
    "    viterby(a, b, p, seq)\n",
    "    forward_backward(a, b, p, seq)"
   ]
  },
  {
   "cell_type": "code",
   "execution_count": 20,
   "metadata": {},
   "outputs": [
    {
     "name": "stdout",
     "output_type": "stream",
     "text": [
      "11111111112222222211111111\n",
      "0.860 0.766 0.878 0.779 0.887 0.795 0.911 0.860 0.457 0.273 0.190 0.153 0.139 0.140 0.154 0.193 0.279 0.470 0.889 0.965 0.978 0.981 0.981 0.980 0.974 0.942 \n",
      "0.140 0.234 0.122 0.221 0.113 0.205 0.089 0.140 0.543 0.727 0.810 0.847 0.861 0.860 0.846 0.807 0.721 0.530 0.111 0.035 0.022 0.019 0.019 0.020 0.026 0.058 \n"
     ]
    }
   ],
   "source": [
    "test1()"
   ]
  },
  {
   "cell_type": "code",
   "execution_count": 21,
   "metadata": {},
   "outputs": [
    {
     "name": "stdout",
     "output_type": "stream",
     "text": [
      "21212122111111111122222222\n",
      "0.495 0.505 0.495 0.505 0.495 0.505 0.495 0.495 0.505 0.505 0.505 0.505 0.505 0.505 0.505 0.505 0.505 0.505 0.495 0.495 0.495 0.495 0.495 0.495 0.495 0.495 \n",
      "0.505 0.495 0.505 0.495 0.505 0.495 0.505 0.505 0.495 0.495 0.495 0.495 0.495 0.495 0.495 0.495 0.495 0.495 0.505 0.505 0.505 0.505 0.505 0.505 0.505 0.505 \n"
     ]
    }
   ],
   "source": [
    "test2()"
   ]
  },
  {
   "cell_type": "code",
   "execution_count": null,
   "metadata": {},
   "outputs": [],
   "source": []
  }
 ],
 "metadata": {
  "kernelspec": {
   "display_name": "Python 3",
   "language": "python",
   "name": "python3"
  },
  "language_info": {
   "codemirror_mode": {
    "name": "ipython",
    "version": 3
   },
   "file_extension": ".py",
   "mimetype": "text/x-python",
   "name": "python",
   "nbconvert_exporter": "python",
   "pygments_lexer": "ipython3",
   "version": "3.6.11"
  }
 },
 "nbformat": 4,
 "nbformat_minor": 4
}

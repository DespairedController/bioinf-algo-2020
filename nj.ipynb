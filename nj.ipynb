{
 "cells": [
  {
   "cell_type": "code",
   "execution_count": 1,
   "metadata": {},
   "outputs": [],
   "source": [
    "class NewickTree:\n",
    "    def __init__(self, elements, left_child, right_child, left_branch, right_branch):\n",
    "        self.elements = elements\n",
    "        self.l = left_child\n",
    "        self.r = right_child\n",
    "        self.left_branch = left_branch\n",
    "        self.right_branch = right_branch\n",
    "\n",
    "    def to_string(self):\n",
    "        if len(self.elements) == 1:\n",
    "            return str(list(self.elements)[0])\n",
    "        else:\n",
    "            a = \"(\" + self.l.to_string() + \":\" + str(self.left_branch) + \",\" + self.r.to_string() + \":\" + str(\n",
    "                self.right_branch) + \")\"\n",
    "            return a"
   ]
  },
  {
   "cell_type": "code",
   "execution_count": 2,
   "metadata": {},
   "outputs": [],
   "source": [
    "def find_min(table, sum_of_distances):\n",
    "    minimum = 1000101010100000\n",
    "    A = None\n",
    "    B = None\n",
    "    n = len(table)\n",
    "\n",
    "    for (a, b) in table.items():\n",
    "        for (c, d) in b.items():\n",
    "            if d == 0:\n",
    "                continue\n",
    "            dist = d - (sum_of_distances[a] + sum_of_distances[c] - 2 * d) / (n - 2)\n",
    "            if dist < minimum:\n",
    "                A = a\n",
    "                B = c\n",
    "                minimum = dist\n",
    "    return A, B"
   ]
  },
  {
   "cell_type": "code",
   "execution_count": 3,
   "metadata": {},
   "outputs": [],
   "source": [
    "def nj(table):\n",
    "    cluster_distances = table\n",
    "    tree = {}\n",
    "    for (a, _) in table.items():\n",
    "        tree[a] = NewickTree(a, None, None, 0.0, 0.0)\n",
    "    while True:\n",
    "        sumOfDistances = {}\n",
    "        for (a, b) in cluster_distances.items():\n",
    "            sumOfDistances[a] = 0\n",
    "            for (c, d) in b.items():\n",
    "                sumOfDistances[a] = sumOfDistances[a] + d\n",
    "\n",
    "        (a, b) = find_min(cluster_distances, sumOfDistances)\n",
    "        new_cluster = a.union(b)\n",
    "        new_cluster_distances = {new_cluster: {new_cluster: 0}}\n",
    "        n = len(cluster_distances)\n",
    "        a_branch_length = (cluster_distances[a][b] + (sumOfDistances[a] - sumOfDistances[b]) / (n - 2)) / 2\n",
    "        b_branch_length = (cluster_distances[a][b] + (sumOfDistances[b] - sumOfDistances[a]) / (n - 2)) / 2\n",
    "        tree[new_cluster] = NewickTree(new_cluster, tree[a], tree[b], a_branch_length, b_branch_length)\n",
    "\n",
    "        for (k, v) in cluster_distances[a].items():\n",
    "            if k == a or k == b:\n",
    "                continue\n",
    "            new_cluster_distances[new_cluster][k] = (cluster_distances[a][k] + cluster_distances[b][k] -\n",
    "                                                     cluster_distances[a][b]) / 2\n",
    "            if not (k in new_cluster_distances):\n",
    "                new_cluster_distances[k] = {k: 0.0}\n",
    "            new_cluster_distances[k][new_cluster] = new_cluster_distances[new_cluster][k]\n",
    "\n",
    "        for (k1, v1) in cluster_distances.items():\n",
    "            if k1 == a or k1 == b:\n",
    "                continue\n",
    "            for (k2, v2) in v1.items():\n",
    "                if k2 == a or k2 == b:\n",
    "                    continue\n",
    "                new_cluster_distances[k1][k2] = v2\n",
    "        if len(new_cluster_distances) == 2:\n",
    "            fst = new_cluster\n",
    "            for i in new_cluster_distances[new_cluster].keys():\n",
    "                if i != new_cluster:\n",
    "                    snd = i\n",
    "                    break\n",
    "            new_new_cluster = fst.union(snd)\n",
    "            tree[new_new_cluster] = NewickTree(new_new_cluster, tree[fst], tree[snd],\n",
    "                                               new_cluster_distances[fst][snd] / 2,\n",
    "                                               new_cluster_distances[fst][snd] / 2)\n",
    "            return tree[new_new_cluster]\n",
    "        cluster_distances = new_cluster_distances"
   ]
  },
  {
   "cell_type": "code",
   "execution_count": 4,
   "metadata": {},
   "outputs": [],
   "source": [
    "test1 = {\n",
    "    frozenset({\"A\"}): {frozenset({\"A\"}): 0.0, frozenset({\"B\"}): 16.0, frozenset({\"C\"}): 16.0, frozenset({\"D\"}): 10.0},\n",
    "    frozenset({\"B\"}): {frozenset({\"A\"}): 16.0, frozenset({\"B\"}): 0.0, frozenset({\"C\"}): 8.0, frozenset({\"D\"}): 8.0},\n",
    "    frozenset({\"C\"}): {frozenset({\"A\"}): 16.0, frozenset({\"B\"}): 8.0, frozenset({\"C\"}): 0.0, frozenset({\"D\"}): 4.0},\n",
    "    frozenset({\"D\"}): {frozenset({\"A\"}): 10.0, frozenset({\"B\"}): 8.0, frozenset({\"C\"}): 4.0, frozenset({\"D\"}): 10.0}}\n",
    "\n",
    "test2 = {\n",
    "    frozenset({\"A\"}): {frozenset({\"A\"}): 0, frozenset({\"B\"}): 5, frozenset({\"C\"}): 4, frozenset({\"D\"}): 7,\n",
    "                       frozenset({\"E\"}): 6, frozenset({\"F\"}): 8},\n",
    "    frozenset({\"B\"}): {frozenset({\"A\"}): 5, frozenset({\"B\"}): 0, frozenset({\"C\"}): 7, frozenset({\"D\"}): 10,\n",
    "                       frozenset({\"E\"}): 9, frozenset({\"F\"}): 11},\n",
    "    frozenset({\"C\"}): {frozenset({\"A\"}): 4, frozenset({\"B\"}): 7, frozenset({\"C\"}): 0, frozenset({\"D\"}): 7,\n",
    "                       frozenset({\"E\"}): 6, frozenset({\"F\"}): 8},\n",
    "    frozenset({\"D\"}): {frozenset({\"A\"}): 7, frozenset({\"B\"}): 10, frozenset({\"C\"}): 7, frozenset({\"D\"}): 0,\n",
    "                       frozenset({\"E\"}): 5, frozenset({\"F\"}): 9},\n",
    "    frozenset({\"E\"}): {frozenset({\"A\"}): 6, frozenset({\"B\"}): 9, frozenset({\"C\"}): 6, frozenset({\"D\"}): 5,\n",
    "                       frozenset({\"E\"}): 0, frozenset({\"F\"}): 8},\n",
    "    frozenset({\"F\"}): {frozenset({\"A\"}): 8, frozenset({\"B\"}): 11, frozenset({\"C\"}): 8, frozenset({\"D\"}): 9,\n",
    "                       frozenset({\"E\"}): 8, frozenset({\"F\"}): 0}\n",
    "}"
   ]
  },
  {
   "cell_type": "code",
   "execution_count": 5,
   "metadata": {},
   "outputs": [],
   "source": [
    "def run(test_number):\n",
    "    if test_number == 1:\n",
    "        test = test1\n",
    "    elif test_number == 2:\n",
    "        test = test2\n",
    "    else:\n",
    "        print(\"No such test\")\n",
    "        return\n",
    "    print(nj(test).to_string())"
   ]
  },
  {
   "cell_type": "code",
   "execution_count": 6,
   "metadata": {},
   "outputs": [
    {
     "name": "stdout",
     "output_type": "stream",
     "text": [
      "(((C:1.0,D:3.0):0.5,B:5.5):5.25,A:5.25)\n"
     ]
    }
   ],
   "source": [
    "run(1)"
   ]
  },
  {
   "cell_type": "code",
   "execution_count": 7,
   "metadata": {},
   "outputs": [
    {
     "name": "stdout",
     "output_type": "stream",
     "text": [
      "(((((A:1.0,B:4.0):1.0,C:2.0):1.5,E:2.5):-0.5,D:3.5):2.75,F:2.75)\n"
     ]
    }
   ],
   "source": [
    "run(2)"
   ]
  },
  {
   "cell_type": "code",
   "execution_count": null,
   "metadata": {},
   "outputs": [],
   "source": []
  }
 ],
 "metadata": {
  "kernelspec": {
   "display_name": "Python 3",
   "language": "python",
   "name": "python3"
  },
  "language_info": {
   "codemirror_mode": {
    "name": "ipython",
    "version": 3
   },
   "file_extension": ".py",
   "mimetype": "text/x-python",
   "name": "python",
   "nbconvert_exporter": "python",
   "pygments_lexer": "ipython3",
   "version": "3.6.11"
  }
 },
 "nbformat": 4,
 "nbformat_minor": 4
}

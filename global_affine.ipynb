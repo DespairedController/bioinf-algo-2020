{
 "cells": [
  {
   "cell_type": "code",
   "execution_count": 1,
   "metadata": {},
   "outputs": [],
   "source": [
    "def affine_gap_alignment(seq1, seq2, weight_match, weight_mismatch, open_gap_penalty, continue_gap_penalty):\n",
    "    n = len(seq1)\n",
    "    m = len(seq2)\n",
    "\n",
    "    matrix1 = [[0 for _ in range(m + 1)] for _ in range(n + 1)]\n",
    "    matrix2 = [[0 for _ in range(m + 1)] for _ in range(n + 1)]\n",
    "    matrix3 = [[0 for _ in range(m + 1)] for _ in range(n + 1)]\n",
    "    backtrack = [[\"\" for _ in range(m + 1)] for _ in range(n + 1)]\n",
    "    for x in range(1, m + 1):\n",
    "        matrix3[0][x] = open_gap_penalty + x * continue_gap_penalty\n",
    "    for x in range(1, n + 1):\n",
    "        matrix3[x][0] = open_gap_penalty + x * continue_gap_penalty\n",
    "\n",
    "    for x in range(0, m + 1):\n",
    "        backtrack[0][x] = \"g1\"\n",
    "    for x in range(0, n + 1):\n",
    "        backtrack[x][0] = \"g2\"\n",
    "\n",
    "    for x in range(0, m + 1):\n",
    "        matrix1[0][x] = open_gap_penalty + x * continue_gap_penalty\n",
    "    for x in range(0, n + 1):\n",
    "        matrix1[x][0] = -100 + open_gap_penalty * n * 10000\n",
    "\n",
    "    for x in range(0, m + 1):\n",
    "        matrix2[0][x] = -100 + open_gap_penalty * n * 10000\n",
    "    for x in range(0, n + 1):\n",
    "        matrix2[x][0] = open_gap_penalty + x * continue_gap_penalty\n",
    "\n",
    "    for x in range(1, n + 1):\n",
    "        for y in range(1, m + 1):\n",
    "            matching = (seq1[x - 1] == seq2[y - 1]) * weight_match \\\n",
    "                       + (seq1[x - 1] != seq2[y - 1]) * weight_mismatch\n",
    "            matrix1[x][y] = max(matrix1[x][y - 1] + continue_gap_penalty,\n",
    "                                matrix3[x][y - 1] + open_gap_penalty + continue_gap_penalty)\n",
    "            matrix2[x][y] = max(matrix2[x - 1][y] + continue_gap_penalty,\n",
    "                                matrix3[x - 1][y] + open_gap_penalty + continue_gap_penalty)\n",
    "            matrix3[x][y] = max(matrix1[x][y], matrix2[x][y], matrix3[x - 1][y - 1] + matching)\n",
    "\n",
    "            if matrix3[x][y] == matrix3[x - 1][y - 1] + matching:\n",
    "                backtrack[x][y] = \"m\"\n",
    "            else:\n",
    "                if matrix3[x][y] == matrix1[x][y]:\n",
    "                    backtrack[x][y] = \"g1\"\n",
    "                else:\n",
    "                    backtrack[x][y] = \"g2\"\n",
    "\n",
    "    al1 = \"\"\n",
    "    al2 = \"\"\n",
    "    x = n\n",
    "    y = m\n",
    "    while x > 0 or y > 0:\n",
    "        if backtrack[x][y] == \"m\":\n",
    "            al1 += seq1[x - 1]\n",
    "            al2 += seq2[y - 1]\n",
    "            x -= 1\n",
    "            y -= 1\n",
    "        else:\n",
    "            if backtrack[x][y] == \"g1\":\n",
    "                al1 += \"_\"\n",
    "                al2 += seq2[y - 1]\n",
    "                y -= 1\n",
    "            else:\n",
    "                al2 += \"_\"\n",
    "                al1 += seq1[x - 1]\n",
    "                x -= 1\n",
    "    print((al1[::-1]) + \" \" + (al2[::-1]))"
   ]
  },
  {
   "cell_type": "code",
   "execution_count": 2,
   "metadata": {},
   "outputs": [
    {
     "name": "stdout",
     "output_type": "stream",
     "text": [
      "CAB__B _ABCAB\n"
     ]
    }
   ],
   "source": [
    "affine_gap_alignment(\"CABB\", \"ABCAB\", 1, -1, 0, -1)"
   ]
  },
  {
   "cell_type": "code",
   "execution_count": 3,
   "metadata": {},
   "outputs": [
    {
     "name": "stdout",
     "output_type": "stream",
     "text": [
      "_CABB ABCAB\n"
     ]
    }
   ],
   "source": [
    "affine_gap_alignment(\"CABB\", \"ABCAB\", 1, -1, -10, -1)"
   ]
  },
  {
   "cell_type": "code",
   "execution_count": null,
   "metadata": {},
   "outputs": [],
   "source": []
  }
 ],
 "metadata": {
  "kernelspec": {
   "display_name": "Python 3",
   "language": "python",
   "name": "python3"
  },
  "language_info": {
   "codemirror_mode": {
    "name": "ipython",
    "version": 3
   },
   "file_extension": ".py",
   "mimetype": "text/x-python",
   "name": "python",
   "nbconvert_exporter": "python",
   "pygments_lexer": "ipython3",
   "version": "3.6.11"
  }
 },
 "nbformat": 4,
 "nbformat_minor": 4
}

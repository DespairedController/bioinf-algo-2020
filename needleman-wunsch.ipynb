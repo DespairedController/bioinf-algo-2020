{
 "cells": [
  {
   "cell_type": "code",
   "execution_count": 1,
   "metadata": {},
   "outputs": [],
   "source": [
    "def needleman_wunsch(first, second, weights):\n",
    "    n = len(first)\n",
    "    m = len(second)\n",
    "\n",
    "    matrix = [[0 for x in range(n + 5)] for y in range(m + 5)]\n",
    "\n",
    "    for x in range(1, n + 1):\n",
    "        matrix[0][x] = weights[first[x-1]][\"_\"] + matrix[0][ x - 1]\n",
    "\n",
    "    for x in range(1, m + 1):\n",
    "        matrix[x][0] = weights[\"_\"][second[x - 1]] + matrix[x - 1][0]\n",
    "\n",
    "    for x in range(1, m + 1):\n",
    "        for y in range(1, n + 1):\n",
    "            matrix[x][y] = max(matrix[x - 1][y - 1] + weights[first[y - 1]][second[x - 1]],\n",
    "                               matrix[x - 1][y] + weights[first[y - 1]][\"_\"],\n",
    "                               matrix[x][y - 1] + weights[\"_\"][second[x - 1]])\n",
    "    x = m\n",
    "    y = n\n",
    "    ans1 = ans2 = \"\"\n",
    "    while x != 0 and y != 0:\n",
    "        mx = matrix[x - 1][y - 1]\n",
    "        cur1 = first[y - 1]\n",
    "        cur2 = second[x - 1]\n",
    "        new_x = x - 1\n",
    "        new_y = y - 1\n",
    "        if matrix[x - 1][y] > mx:\n",
    "            cur1 = \"_\"\n",
    "            mx = matrix[x - 1][y]\n",
    "            new_y = y\n",
    "        if matrix[x][y - 1] > mx:\n",
    "            cur1 = first[y - 1]\n",
    "            cur2 = \"_\"\n",
    "            new_x = x\n",
    "            new_y = y - 1\n",
    "        ans1 += cur1\n",
    "        ans2 += cur2\n",
    "        x = new_x\n",
    "        y = new_y\n",
    "    while x > 0:\n",
    "        ans1 += \"_\"\n",
    "        ans2 += second[x - 1]\n",
    "        x -= 1\n",
    "    while y > 0:\n",
    "        ans2 += \"_\"\n",
    "        ans1 += first[y - 1]\n",
    "        y -= 1\n",
    "    print((ans1[::-1]) + \" \" + (ans2[::-1]))\n"
   ]
  },
  {
   "cell_type": "code",
   "execution_count": 3,
   "metadata": {},
   "outputs": [
    {
     "name": "stdout",
     "output_type": "stream",
     "text": [
      "ABCAB B_C__\n"
     ]
    }
   ],
   "source": [
    "example = {\"A\": {\"A\": 5, \"B\": -5, \"C\": -2, \"_\": -50}, \"B\": {\"A\": -5, \"B\": 50, \"C\": -5, \"_\": -5},\n",
    "           \"C\": {\"A\": -5, \"B\": -5, \"C\": 1, \"_\": -1}, \"_\": {\"A\": -5, \"B\": -5, \"C\": -1}}\n",
    "first = \"ABCAB\"\n",
    "second = \"BC\"\n",
    "needleman_wunsch(first, second, example)"
   ]
  },
  {
   "cell_type": "code",
   "execution_count": 4,
   "metadata": {},
   "outputs": [
    {
     "name": "stdout",
     "output_type": "stream",
     "text": [
      "ABCAB _BC__\n"
     ]
    }
   ],
   "source": [
    "example[\"A\"][\"_\"] = -5\n",
    "needleman_wunsch(first, second, example)"
   ]
  },
  {
   "cell_type": "markdown",
   "metadata": {},
   "source": [
    "Уменьшение штрафа за gap вместо \"A\" повлекло за собой изменение выравнивания"
   ]
  }
 ],
 "metadata": {
  "kernelspec": {
   "display_name": "Python 3",
   "language": "python",
   "name": "python3"
  },
  "language_info": {
   "codemirror_mode": {
    "name": "ipython",
    "version": 3
   },
   "file_extension": ".py",
   "mimetype": "text/x-python",
   "name": "python",
   "nbconvert_exporter": "python",
   "pygments_lexer": "ipython3",
   "version": "3.6.10"
  }
 },
 "nbformat": 4,
 "nbformat_minor": 4
}
